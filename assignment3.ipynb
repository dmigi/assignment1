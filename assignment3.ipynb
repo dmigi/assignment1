{
  "nbformat": 4,
  "nbformat_minor": 0,
  "metadata": {
    "colab": {
      "name": "assignment3.ipynb",
      "version": "0.3.2",
      "provenance": [],
      "collapsed_sections": [],
      "include_colab_link": true
    },
    "kernelspec": {
      "name": "python2",
      "display_name": "Python 2"
    }
  },
  "cells": [
    {
      "cell_type": "markdown",
      "metadata": {
        "id": "view-in-github",
        "colab_type": "text"
      },
      "source": [
        "[View in Colaboratory](https://colab.research.google.com/github/dmigi/assignment1/blob/master/assignment3.ipynb)"
      ]
    },
    {
      "metadata": {
        "id": "VCk94TJ17ApV",
        "colab_type": "code",
        "colab": {
          "base_uri": "https://localhost:8080/",
          "height": 87
        },
        "outputId": "d2f61b83-e619-4798-f199-3ceff1cd8124"
      },
      "cell_type": "code",
      "source": [
        "def probab(A,B,C):\n",
        "    print(\"P(A): %s\"%(A))\n",
        "    print(\"P(B): %s\"%(B))\n",
        "    print(\"P(C): %s\"%(C))\n",
        "    cond_probab= (C*B)/A\n",
        "    return cond_probab\n",
        "\n",
        "probab(.30,.16, .05)"
      ],
      "execution_count": 3,
      "outputs": [
        {
          "output_type": "stream",
          "text": [
            "P(A): 0.3\n",
            "P(B): 0.16\n",
            "P(C): 0.05\n"
          ],
          "name": "stdout"
        },
        {
          "output_type": "execute_result",
          "data": {
            "text/plain": [
              "0.02666666666666667"
            ]
          },
          "metadata": {
            "tags": []
          },
          "execution_count": 3
        }
      ]
    },
    {
      "metadata": {
        "id": "VOWCM1EQIoNk",
        "colab_type": "code",
        "colab": {
          "base_uri": "https://localhost:8080/",
          "height": 34
        },
        "outputId": "62575693-fe9f-4564-e80c-7cac79703b7d"
      },
      "cell_type": "code",
      "source": [
        "#question2\n",
        "\n",
        "\n",
        "#bag 1 with 4 white balls and 6 black balls\n",
        "#bag2 with 4 white and 3 black ba+lls\n",
        "bag1= 1.0/2 #probability of selecting bag 1\n",
        "bag2=1.0/2 #probability of selecting bag 2\n",
        "black1 =6.0/10 #probabilty of selecting from bag 1\n",
        "black2 =3.0/7  #probability of selecting from bag2\n",
        "probab1= (bag1*black1)/((bag1*black1)+(bag2*black2))\n",
        "print(probab1)"
      ],
      "execution_count": 3,
      "outputs": [
        {
          "output_type": "stream",
          "text": [
            "0.583333333333\n"
          ],
          "name": "stdout"
        }
      ]
    },
    {
      "metadata": {
        "id": "4rCQ8dFez2g6",
        "colab_type": "code",
        "colab": {
          "base_uri": "https://localhost:8080/",
          "height": 34
        },
        "outputId": "1350afae-0297-4c56-f444-cfdf0fd3aeb5"
      },
      "cell_type": "code",
      "source": [
        "truth=2.0/3\n",
        "lie=1.0/ 3\n",
        "\n",
        "gtng4=1.0/6\n",
        "ngtng4=5.0/6\n",
        "probab=(truth*gtng4)/((truth*gtng4)+(lie*ngtng4))\n",
        "\n",
        "print(probab)"
      ],
      "execution_count": 5,
      "outputs": [
        {
          "output_type": "stream",
          "text": [
            "0.285714285714\n"
          ],
          "name": "stdout"
        }
      ]
    },
    {
      "metadata": {
        "id": "0E7RoX4X1Uwf",
        "colab_type": "code",
        "colab": {}
      },
      "cell_type": "code",
      "source": [
        ""
      ],
      "execution_count": 0,
      "outputs": []
    }
  ]
}